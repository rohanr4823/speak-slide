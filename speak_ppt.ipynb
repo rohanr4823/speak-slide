{
 "cells": [
  {
   "cell_type": "markdown",
   "id": "61f0249e-abfa-45ec-be60-dbccf597d178",
   "metadata": {},
   "source": [
    "PPT Generation Using NLP\n",
    "Utilize Python with libraries like NLTK or spaCy for keyword extraction and text processing to transform user input into slide content, and then leverage the python-pptx library to dynamically create PowerPoint slides by adding titles, content, and optional images or graphs based on the processed keywords."
   ]
  },
  {
   "cell_type": "code",
   "execution_count": 4,
   "id": "854af958-da56-48b6-8bbf-39e91a40e548",
   "metadata": {},
   "outputs": [
    {
     "name": "stdout",
     "output_type": "stream",
     "text": [
      "Requirement already satisfied: SpeechRecognition in c:\\users\\hp\\desktop\\sample_project_1\\env\\lib\\site-packages (3.10.4)Note: you may need to restart the kernel to use updated packages.\n",
      "\n",
      "Requirement already satisfied: requests>=2.26.0 in c:\\users\\hp\\desktop\\sample_project_1\\env\\lib\\site-packages (from SpeechRecognition) (2.31.0)\n",
      "Requirement already satisfied: typing-extensions in c:\\users\\hp\\desktop\\sample_project_1\\env\\lib\\site-packages (from SpeechRecognition) (4.12.2)\n",
      "Requirement already satisfied: charset-normalizer<4,>=2 in c:\\users\\hp\\desktop\\sample_project_1\\env\\lib\\site-packages (from requests>=2.26.0->SpeechRecognition) (2.0.4)\n",
      "Requirement already satisfied: idna<4,>=2.5 in c:\\users\\hp\\desktop\\sample_project_1\\env\\lib\\site-packages (from requests>=2.26.0->SpeechRecognition) (3.4)\n",
      "Requirement already satisfied: urllib3<3,>=1.21.1 in c:\\users\\hp\\desktop\\sample_project_1\\env\\lib\\site-packages (from requests>=2.26.0->SpeechRecognition) (1.26.18)\n",
      "Requirement already satisfied: certifi>=2017.4.17 in c:\\users\\hp\\desktop\\sample_project_1\\env\\lib\\site-packages (from requests>=2.26.0->SpeechRecognition) (2024.6.2)\n"
     ]
    }
   ],
   "source": [
    "pip install SpeechRecognition"
   ]
  },
  {
   "cell_type": "code",
   "execution_count": 2,
   "id": "516b0060-d2cb-4f19-9b2a-501fe885b457",
   "metadata": {},
   "outputs": [
    {
     "name": "stdout",
     "output_type": "stream",
     "text": [
      "Requirement already satisfied: pyaudio in c:\\users\\hp\\desktop\\sample_project_1\\env\\lib\\site-packages (0.2.14)\n",
      "Note: you may need to restart the kernel to use updated packages.\n"
     ]
    }
   ],
   "source": [
    "pip install pyaudio"
   ]
  },
  {
   "cell_type": "code",
   "execution_count": 3,
   "id": "9499a11d-53e3-4d34-ad7e-263f30a4d25c",
   "metadata": {},
   "outputs": [
    {
     "name": "stdout",
     "output_type": "stream",
     "text": [
      "Requirement already satisfied: spacy in c:\\users\\hp\\desktop\\sample_project_1\\env\\lib\\site-packages (3.8.2)\n",
      "Requirement already satisfied: spacy-legacy<3.1.0,>=3.0.11 in c:\\users\\hp\\desktop\\sample_project_1\\env\\lib\\site-packages (from spacy) (3.0.12)\n",
      "Requirement already satisfied: spacy-loggers<2.0.0,>=1.0.0 in c:\\users\\hp\\desktop\\sample_project_1\\env\\lib\\site-packages (from spacy) (1.0.5)\n",
      "Requirement already satisfied: murmurhash<1.1.0,>=0.28.0 in c:\\users\\hp\\desktop\\sample_project_1\\env\\lib\\site-packages (from spacy) (1.0.10)\n",
      "Requirement already satisfied: cymem<2.1.0,>=2.0.2 in c:\\users\\hp\\desktop\\sample_project_1\\env\\lib\\site-packages (from spacy) (2.0.8)\n",
      "Requirement already satisfied: preshed<3.1.0,>=3.0.2 in c:\\users\\hp\\desktop\\sample_project_1\\env\\lib\\site-packages (from spacy) (3.0.9)\n",
      "Requirement already satisfied: thinc<8.4.0,>=8.3.0 in c:\\users\\hp\\desktop\\sample_project_1\\env\\lib\\site-packages (from spacy) (8.3.2)\n",
      "Requirement already satisfied: wasabi<1.2.0,>=0.9.1 in c:\\users\\hp\\desktop\\sample_project_1\\env\\lib\\site-packages (from spacy) (1.1.3)\n",
      "Requirement already satisfied: srsly<3.0.0,>=2.4.3 in c:\\users\\hp\\desktop\\sample_project_1\\env\\lib\\site-packages (from spacy) (2.4.8)\n",
      "Requirement already satisfied: catalogue<2.1.0,>=2.0.6 in c:\\users\\hp\\desktop\\sample_project_1\\env\\lib\\site-packages (from spacy) (2.0.10)\n",
      "Requirement already satisfied: weasel<0.5.0,>=0.1.0 in c:\\users\\hp\\desktop\\sample_project_1\\env\\lib\\site-packages (from spacy) (0.4.1)\n",
      "Requirement already satisfied: typer<1.0.0,>=0.3.0 in c:\\users\\hp\\desktop\\sample_project_1\\env\\lib\\site-packages (from spacy) (0.12.5)\n",
      "Requirement already satisfied: tqdm<5.0.0,>=4.38.0 in c:\\users\\hp\\desktop\\sample_project_1\\env\\lib\\site-packages (from spacy) (4.66.2)\n",
      "Requirement already satisfied: requests<3.0.0,>=2.13.0 in c:\\users\\hp\\desktop\\sample_project_1\\env\\lib\\site-packages (from spacy) (2.31.0)\n",
      "Requirement already satisfied: pydantic!=1.8,!=1.8.1,<3.0.0,>=1.7.4 in c:\\users\\hp\\desktop\\sample_project_1\\env\\lib\\site-packages (from spacy) (2.9.2)\n",
      "Requirement already satisfied: jinja2 in c:\\users\\hp\\desktop\\sample_project_1\\env\\lib\\site-packages (from spacy) (3.1.2)\n",
      "Requirement already satisfied: setuptools in c:\\users\\hp\\desktop\\sample_project_1\\env\\lib\\site-packages (from spacy) (68.0.0)\n",
      "Requirement already satisfied: packaging>=20.0 in c:\\users\\hp\\desktop\\sample_project_1\\env\\lib\\site-packages (from spacy) (23.1)\n",
      "Requirement already satisfied: langcodes<4.0.0,>=3.2.0 in c:\\users\\hp\\desktop\\sample_project_1\\env\\lib\\site-packages (from spacy) (3.4.1)\n",
      "Requirement already satisfied: numpy>=1.19.0 in c:\\users\\hp\\desktop\\sample_project_1\\env\\lib\\site-packages (from spacy) (2.0.2)\n",
      "Requirement already satisfied: language-data>=1.2 in c:\\users\\hp\\desktop\\sample_project_1\\env\\lib\\site-packages (from langcodes<4.0.0,>=3.2.0->spacy) (1.2.0)\n",
      "Requirement already satisfied: annotated-types>=0.6.0 in c:\\users\\hp\\desktop\\sample_project_1\\env\\lib\\site-packages (from pydantic!=1.8,!=1.8.1,<3.0.0,>=1.7.4->spacy) (0.7.0)\n",
      "Requirement already satisfied: pydantic-core==2.23.4 in c:\\users\\hp\\desktop\\sample_project_1\\env\\lib\\site-packages (from pydantic!=1.8,!=1.8.1,<3.0.0,>=1.7.4->spacy) (2.23.4)\n",
      "Requirement already satisfied: typing-extensions>=4.6.1 in c:\\users\\hp\\desktop\\sample_project_1\\env\\lib\\site-packages (from pydantic!=1.8,!=1.8.1,<3.0.0,>=1.7.4->spacy) (4.12.2)\n",
      "Requirement already satisfied: charset-normalizer<4,>=2 in c:\\users\\hp\\desktop\\sample_project_1\\env\\lib\\site-packages (from requests<3.0.0,>=2.13.0->spacy) (2.0.4)\n",
      "Requirement already satisfied: idna<4,>=2.5 in c:\\users\\hp\\desktop\\sample_project_1\\env\\lib\\site-packages (from requests<3.0.0,>=2.13.0->spacy) (3.4)\n",
      "Requirement already satisfied: urllib3<3,>=1.21.1 in c:\\users\\hp\\desktop\\sample_project_1\\env\\lib\\site-packages (from requests<3.0.0,>=2.13.0->spacy) (1.26.18)\n",
      "Requirement already satisfied: certifi>=2017.4.17 in c:\\users\\hp\\desktop\\sample_project_1\\env\\lib\\site-packages (from requests<3.0.0,>=2.13.0->spacy) (2024.6.2)\n",
      "Requirement already satisfied: blis<1.1.0,>=1.0.0 in c:\\users\\hp\\desktop\\sample_project_1\\env\\lib\\site-packages (from thinc<8.4.0,>=8.3.0->spacy) (1.0.1)\n",
      "Requirement already satisfied: confection<1.0.0,>=0.0.1 in c:\\users\\hp\\desktop\\sample_project_1\\env\\lib\\site-packages (from thinc<8.4.0,>=8.3.0->spacy) (0.1.5)\n",
      "Requirement already satisfied: colorama in c:\\users\\hp\\desktop\\sample_project_1\\env\\lib\\site-packages (from tqdm<5.0.0,>=4.38.0->spacy) (0.4.6)\n",
      "Requirement already satisfied: click>=8.0.0 in c:\\users\\hp\\desktop\\sample_project_1\\env\\lib\\site-packages (from typer<1.0.0,>=0.3.0->spacy) (8.1.7)\n",
      "Requirement already satisfied: shellingham>=1.3.0 in c:\\users\\hp\\desktop\\sample_project_1\\env\\lib\\site-packages (from typer<1.0.0,>=0.3.0->spacy) (1.5.4)\n",
      "Requirement already satisfied: rich>=10.11.0 in c:\\users\\hp\\desktop\\sample_project_1\\env\\lib\\site-packages (from typer<1.0.0,>=0.3.0->spacy) (13.9.2)\n",
      "Requirement already satisfied: cloudpathlib<1.0.0,>=0.7.0 in c:\\users\\hp\\desktop\\sample_project_1\\env\\lib\\site-packages (from weasel<0.5.0,>=0.1.0->spacy) (0.20.0)\n",
      "Requirement already satisfied: smart-open<8.0.0,>=5.2.1 in c:\\users\\hp\\desktop\\sample_project_1\\env\\lib\\site-packages (from weasel<0.5.0,>=0.1.0->spacy) (7.0.5)\n",
      "Requirement already satisfied: MarkupSafe>=2.0 in c:\\users\\hp\\desktop\\sample_project_1\\env\\lib\\site-packages (from jinja2->spacy) (2.1.1)\n",
      "Requirement already satisfied: marisa-trie>=0.7.7 in c:\\users\\hp\\desktop\\sample_project_1\\env\\lib\\site-packages (from language-data>=1.2->langcodes<4.0.0,>=3.2.0->spacy) (1.2.1)\n",
      "Requirement already satisfied: markdown-it-py>=2.2.0 in c:\\users\\hp\\desktop\\sample_project_1\\env\\lib\\site-packages (from rich>=10.11.0->typer<1.0.0,>=0.3.0->spacy) (3.0.0)\n",
      "Requirement already satisfied: pygments<3.0.0,>=2.13.0 in c:\\users\\hp\\desktop\\sample_project_1\\env\\lib\\site-packages (from rich>=10.11.0->typer<1.0.0,>=0.3.0->spacy) (2.15.1)\n",
      "Requirement already satisfied: wrapt in c:\\users\\hp\\desktop\\sample_project_1\\env\\lib\\site-packages (from smart-open<8.0.0,>=5.2.1->weasel<0.5.0,>=0.1.0->spacy) (1.16.0)\n",
      "Requirement already satisfied: mdurl~=0.1 in c:\\users\\hp\\desktop\\sample_project_1\\env\\lib\\site-packages (from markdown-it-py>=2.2.0->rich>=10.11.0->typer<1.0.0,>=0.3.0->spacy) (0.1.2)\n",
      "Collecting en-core-web-sm==3.8.0\n",
      "  Downloading https://github.com/explosion/spacy-models/releases/download/en_core_web_sm-3.8.0/en_core_web_sm-3.8.0-py3-none-any.whl (12.8 MB)\n",
      "     ---------------------------------------- 0.0/12.8 MB ? eta -:--:--\n",
      "     ---------------------------------------- 0.0/12.8 MB ? eta -:--:--\n",
      "     ---------------------------------------- 0.0/12.8 MB ? eta -:--:--\n",
      "     ---------------------------------------- 0.0/12.8 MB ? eta -:--:--\n",
      "     --------------------------------------- 0.0/12.8 MB 220.2 kB/s eta 0:00:59\n",
      "     --------------------------------------- 0.1/12.8 MB 328.2 kB/s eta 0:00:39\n",
      "     --------------------------------------- 0.1/12.8 MB 419.2 kB/s eta 0:00:31\n",
      "      -------------------------------------- 0.2/12.8 MB 737.3 kB/s eta 0:00:18\n",
      "     - -------------------------------------- 0.3/12.8 MB 1.1 MB/s eta 0:00:12\n",
      "     - -------------------------------------- 0.5/12.8 MB 1.4 MB/s eta 0:00:09\n",
      "     -- ------------------------------------- 0.7/12.8 MB 1.7 MB/s eta 0:00:08\n",
      "     -- ------------------------------------- 0.8/12.8 MB 1.8 MB/s eta 0:00:07\n",
      "     -- ------------------------------------- 0.9/12.8 MB 1.9 MB/s eta 0:00:07\n",
      "     --- ------------------------------------ 1.0/12.8 MB 1.8 MB/s eta 0:00:07\n",
      "     --- ------------------------------------ 1.1/12.8 MB 2.0 MB/s eta 0:00:07\n",
      "     --- ------------------------------------ 1.1/12.8 MB 1.8 MB/s eta 0:00:07\n",
      "     ---- ----------------------------------- 1.3/12.8 MB 1.9 MB/s eta 0:00:07\n",
      "     ---- ----------------------------------- 1.4/12.8 MB 1.9 MB/s eta 0:00:06\n",
      "     ---- ----------------------------------- 1.6/12.8 MB 2.0 MB/s eta 0:00:06\n",
      "     ----- ---------------------------------- 1.8/12.8 MB 2.2 MB/s eta 0:00:06\n",
      "     ------ --------------------------------- 1.9/12.8 MB 2.2 MB/s eta 0:00:05\n",
      "     ------ --------------------------------- 2.1/12.8 MB 2.3 MB/s eta 0:00:05\n",
      "     ------- -------------------------------- 2.3/12.8 MB 2.4 MB/s eta 0:00:05\n",
      "     ------- -------------------------------- 2.4/12.8 MB 2.4 MB/s eta 0:00:05\n",
      "     ------- -------------------------------- 2.4/12.8 MB 2.4 MB/s eta 0:00:05\n",
      "     -------- ------------------------------- 2.6/12.8 MB 2.4 MB/s eta 0:00:05\n",
      "     -------- ------------------------------- 2.7/12.8 MB 2.3 MB/s eta 0:00:05\n",
      "     -------- ------------------------------- 2.8/12.8 MB 2.3 MB/s eta 0:00:05\n",
      "     --------- ------------------------------ 3.1/12.8 MB 2.5 MB/s eta 0:00:04\n",
      "     ---------- ----------------------------- 3.3/12.8 MB 2.5 MB/s eta 0:00:04\n",
      "     ----------- ---------------------------- 3.5/12.8 MB 2.7 MB/s eta 0:00:04\n",
      "     ----------- ---------------------------- 3.8/12.8 MB 2.8 MB/s eta 0:00:04\n",
      "     ------------ --------------------------- 4.0/12.8 MB 2.8 MB/s eta 0:00:04\n",
      "     ------------- -------------------------- 4.3/12.8 MB 2.9 MB/s eta 0:00:03\n",
      "     ------------- -------------------------- 4.3/12.8 MB 2.9 MB/s eta 0:00:03\n",
      "     ------------- -------------------------- 4.3/12.8 MB 2.9 MB/s eta 0:00:03\n",
      "     -------------- ------------------------- 4.6/12.8 MB 2.8 MB/s eta 0:00:03\n",
      "     -------------- ------------------------- 4.6/12.8 MB 2.8 MB/s eta 0:00:03\n",
      "     -------------- ------------------------- 4.8/12.8 MB 2.8 MB/s eta 0:00:03\n",
      "     --------------- ------------------------ 4.9/12.8 MB 2.8 MB/s eta 0:00:03\n",
      "     ---------------- ----------------------- 5.2/12.8 MB 2.9 MB/s eta 0:00:03\n",
      "     ----------------- ---------------------- 5.5/12.8 MB 3.0 MB/s eta 0:00:03\n",
      "     ------------------ --------------------- 5.8/12.8 MB 3.1 MB/s eta 0:00:03\n",
      "     ------------------- -------------------- 6.1/12.8 MB 3.2 MB/s eta 0:00:03\n",
      "     ------------------- -------------------- 6.4/12.8 MB 3.2 MB/s eta 0:00:02\n",
      "     -------------------- ------------------- 6.7/12.8 MB 3.3 MB/s eta 0:00:02\n",
      "     -------------------- ------------------- 6.7/12.8 MB 3.3 MB/s eta 0:00:02\n",
      "     --------------------- ------------------ 7.0/12.8 MB 3.3 MB/s eta 0:00:02\n",
      "     ---------------------- ----------------- 7.3/12.8 MB 3.4 MB/s eta 0:00:02\n",
      "     ----------------------- ---------------- 7.6/12.8 MB 3.4 MB/s eta 0:00:02\n",
      "     ------------------------ --------------- 7.8/12.8 MB 3.4 MB/s eta 0:00:02\n",
      "     ------------------------ --------------- 7.8/12.8 MB 3.4 MB/s eta 0:00:02\n",
      "     ------------------------- -------------- 8.1/12.8 MB 3.4 MB/s eta 0:00:02\n",
      "     ------------------------- -------------- 8.3/12.8 MB 3.5 MB/s eta 0:00:02\n",
      "     -------------------------- ------------- 8.4/12.8 MB 3.4 MB/s eta 0:00:02\n",
      "     -------------------------- ------------- 8.5/12.8 MB 3.4 MB/s eta 0:00:02\n",
      "     --------------------------- ------------ 8.7/12.8 MB 3.4 MB/s eta 0:00:02\n",
      "     --------------------------- ------------ 8.7/12.8 MB 3.4 MB/s eta 0:00:02\n",
      "     --------------------------- ------------ 8.9/12.8 MB 3.4 MB/s eta 0:00:02\n",
      "     ---------------------------- ----------- 9.2/12.8 MB 3.5 MB/s eta 0:00:02\n",
      "     ----------------------------- ---------- 9.5/12.8 MB 3.5 MB/s eta 0:00:01\n",
      "     ------------------------------ --------- 9.6/12.8 MB 3.5 MB/s eta 0:00:01\n",
      "     ------------------------------ --------- 9.8/12.8 MB 3.5 MB/s eta 0:00:01\n",
      "     ------------------------------- -------- 10.1/12.8 MB 3.6 MB/s eta 0:00:01\n",
      "     -------------------------------- ------- 10.4/12.8 MB 3.8 MB/s eta 0:00:01\n",
      "     --------------------------------- ------ 10.7/12.8 MB 3.9 MB/s eta 0:00:01\n",
      "     ---------------------------------- ----- 11.1/12.8 MB 4.0 MB/s eta 0:00:01\n",
      "     ----------------------------------- ---- 11.3/12.8 MB 4.2 MB/s eta 0:00:01\n",
      "     ----------------------------------- ---- 11.4/12.8 MB 4.3 MB/s eta 0:00:01\n",
      "     ------------------------------------ --- 11.6/12.8 MB 4.2 MB/s eta 0:00:01\n",
      "     ------------------------------------- -- 11.9/12.8 MB 4.3 MB/s eta 0:00:01\n",
      "     -------------------------------------- - 12.2/12.8 MB 4.4 MB/s eta 0:00:01\n",
      "     -------------------------------------- - 12.5/12.8 MB 4.4 MB/s eta 0:00:01\n",
      "     ---------------------------------------  12.7/12.8 MB 4.5 MB/s eta 0:00:01\n",
      "     ---------------------------------------  12.8/12.8 MB 4.5 MB/s eta 0:00:01\n",
      "     ---------------------------------------- 12.8/12.8 MB 4.5 MB/s eta 0:00:00\n",
      "\u001b[38;5;2m[+] Download and installation successful\u001b[0m\n",
      "You can now load the package via spacy.load('en_core_web_sm')\n"
     ]
    }
   ],
   "source": [
    "!pip install spacy\n",
    "!python -m spacy download en_core_web_sm"
   ]
  },
  {
   "cell_type": "code",
   "execution_count": 4,
   "id": "755a0b5e-b966-484a-8c8d-381af09221f5",
   "metadata": {},
   "outputs": [
    {
     "name": "stdout",
     "output_type": "stream",
     "text": [
      "Requirement already satisfied: python-pptx in c:\\users\\hp\\desktop\\sample_project_1\\env\\lib\\site-packages (1.0.2)\n",
      "Requirement already satisfied: Pillow>=3.3.2 in c:\\users\\hp\\desktop\\sample_project_1\\env\\lib\\site-packages (from python-pptx) (10.0.1)\n",
      "Requirement already satisfied: XlsxWriter>=0.5.7 in c:\\users\\hp\\desktop\\sample_project_1\\env\\lib\\site-packages (from python-pptx) (3.2.0)\n",
      "Requirement already satisfied: lxml>=3.1.0 in c:\\users\\hp\\desktop\\sample_project_1\\env\\lib\\site-packages (from python-pptx) (5.3.0)\n",
      "Requirement already satisfied: typing-extensions>=4.9.0 in c:\\users\\hp\\desktop\\sample_project_1\\env\\lib\\site-packages (from python-pptx) (4.12.2)\n"
     ]
    }
   ],
   "source": [
    "!pip install python-pptx"
   ]
  },
  {
   "cell_type": "code",
   "execution_count": 5,
   "id": "d8749287-0d44-482a-90e9-0f77c6cc989f",
   "metadata": {},
   "outputs": [
    {
     "name": "stdout",
     "output_type": "stream",
     "text": [
      "Requirement already satisfied: SpeechRecognition in c:\\users\\hp\\desktop\\sample_project_1\\env\\lib\\site-packages (3.10.4)\n",
      "Requirement already satisfied: pyaudio in c:\\users\\hp\\desktop\\sample_project_1\\env\\lib\\site-packages (0.2.14)\n",
      "Requirement already satisfied: python-pptx in c:\\users\\hp\\desktop\\sample_project_1\\env\\lib\\site-packages (1.0.2)\n",
      "Requirement already satisfied: requests>=2.26.0 in c:\\users\\hp\\desktop\\sample_project_1\\env\\lib\\site-packages (from SpeechRecognition) (2.31.0)\n",
      "Requirement already satisfied: typing-extensions in c:\\users\\hp\\desktop\\sample_project_1\\env\\lib\\site-packages (from SpeechRecognition) (4.12.2)\n",
      "Requirement already satisfied: Pillow>=3.3.2 in c:\\users\\hp\\desktop\\sample_project_1\\env\\lib\\site-packages (from python-pptx) (10.0.1)\n",
      "Requirement already satisfied: XlsxWriter>=0.5.7 in c:\\users\\hp\\desktop\\sample_project_1\\env\\lib\\site-packages (from python-pptx) (3.2.0)\n",
      "Requirement already satisfied: lxml>=3.1.0 in c:\\users\\hp\\desktop\\sample_project_1\\env\\lib\\site-packages (from python-pptx) (5.3.0)\n",
      "Requirement already satisfied: charset-normalizer<4,>=2 in c:\\users\\hp\\desktop\\sample_project_1\\env\\lib\\site-packages (from requests>=2.26.0->SpeechRecognition) (2.0.4)\n",
      "Requirement already satisfied: idna<4,>=2.5 in c:\\users\\hp\\desktop\\sample_project_1\\env\\lib\\site-packages (from requests>=2.26.0->SpeechRecognition) (3.4)\n",
      "Requirement already satisfied: urllib3<3,>=1.21.1 in c:\\users\\hp\\desktop\\sample_project_1\\env\\lib\\site-packages (from requests>=2.26.0->SpeechRecognition) (1.26.18)\n",
      "Requirement already satisfied: certifi>=2017.4.17 in c:\\users\\hp\\desktop\\sample_project_1\\env\\lib\\site-packages (from requests>=2.26.0->SpeechRecognition) (2024.6.2)\n"
     ]
    }
   ],
   "source": [
    "!pip install SpeechRecognition pyaudio python-pptx"
   ]
  },
  {
   "cell_type": "code",
   "execution_count": 6,
   "id": "fc6522f3-121a-41bb-b816-5f6ed6b70620",
   "metadata": {},
   "outputs": [
    {
     "name": "stdout",
     "output_type": "stream",
     "text": [
      "Requirement already satisfied: wikipedia-api in c:\\users\\hp\\desktop\\sample_project_1\\env\\lib\\site-packages (0.7.1)\n",
      "Requirement already satisfied: requests in c:\\users\\hp\\desktop\\sample_project_1\\env\\lib\\site-packages (from wikipedia-api) (2.31.0)\n",
      "Requirement already satisfied: charset-normalizer<4,>=2 in c:\\users\\hp\\desktop\\sample_project_1\\env\\lib\\site-packages (from requests->wikipedia-api) (2.0.4)\n",
      "Requirement already satisfied: idna<4,>=2.5 in c:\\users\\hp\\desktop\\sample_project_1\\env\\lib\\site-packages (from requests->wikipedia-api) (3.4)\n",
      "Requirement already satisfied: urllib3<3,>=1.21.1 in c:\\users\\hp\\desktop\\sample_project_1\\env\\lib\\site-packages (from requests->wikipedia-api) (1.26.18)\n",
      "Requirement already satisfied: certifi>=2017.4.17 in c:\\users\\hp\\desktop\\sample_project_1\\env\\lib\\site-packages (from requests->wikipedia-api) (2024.6.2)\n"
     ]
    }
   ],
   "source": [
    "!pip install wikipedia-api"
   ]
  },
  {
   "cell_type": "code",
   "execution_count": 5,
   "id": "f4860fa6-70fa-460e-8ce9-c2c76fc938aa",
   "metadata": {
    "scrolled": true
   },
   "outputs": [
    {
     "name": "stdout",
     "output_type": "stream",
     "text": [
      "Starting voice-activated PowerPoint assistant...\n",
      "Listening for voice command...\n",
      "Recognized: create slide of elephant\n",
      "Processing command: create slide of elephant\n",
      "Image found: https://upload.wikimedia.org/wikipedia/commons/thumb/3/37/African_Bush_Elephant.jpg/50px-African_Bush_Elephant.jpg\n",
      "Created a slide about elephant with limited content.\n",
      "Inserted image from: https://upload.wikimedia.org/wikipedia/commons/thumb/3/37/African_Bush_Elephant.jpg/50px-African_Bush_Elephant.jpg\n",
      "Listening for voice command...\n",
      "Recognized: create slide of Apple\n",
      "Processing command: create slide of apple\n",
      "Image found: https://upload.wikimedia.org/wikipedia/commons/thumb/a/a6/Pink_lady_and_cross_section.jpg/50px-Pink_lady_and_cross_section.jpg\n",
      "Created a slide about apple with limited content.\n",
      "Failed to download image from: https://upload.wikimedia.org/wikipedia/commons/thumb/a/a6/Pink_lady_and_cross_section.jpg/50px-Pink_lady_and_cross_section.jpg\n",
      "Listening for voice command...\n",
      "Recognized: create slide of elephant\n",
      "Processing command: create slide of elephant\n",
      "Image found: https://upload.wikimedia.org/wikipedia/commons/thumb/3/37/African_Bush_Elephant.jpg/50px-African_Bush_Elephant.jpg\n",
      "Created a slide about elephant with limited content.\n",
      "Inserted image from: https://upload.wikimedia.org/wikipedia/commons/thumb/3/37/African_Bush_Elephant.jpg/50px-African_Bush_Elephant.jpg\n",
      "Listening for voice command...\n",
      "Recognized: create slide of rabbit\n",
      "Processing command: create slide of rabbit\n",
      "Image found: https://upload.wikimedia.org/wikipedia/commons/thumb/1/1f/Oryctolagus_cuniculus_Rcdo.jpg/50px-Oryctolagus_cuniculus_Rcdo.jpg\n",
      "Created a slide about rabbit with limited content.\n",
      "Inserted image from: https://upload.wikimedia.org/wikipedia/commons/thumb/1/1f/Oryctolagus_cuniculus_Rcdo.jpg/50px-Oryctolagus_cuniculus_Rcdo.jpg\n",
      "Listening for voice command...\n",
      "Recognized: create slide of cheetah\n",
      "Processing command: create slide of cheetah\n",
      "Image found: https://upload.wikimedia.org/wikipedia/commons/thumb/9/92/Male_cheetah_facing_left_in_South_Africa.jpg/50px-Male_cheetah_facing_left_in_South_Africa.jpg\n",
      "Created a slide about cheetah with limited content.\n",
      "Inserted image from: https://upload.wikimedia.org/wikipedia/commons/thumb/9/92/Male_cheetah_facing_left_in_South_Africa.jpg/50px-Male_cheetah_facing_left_in_South_Africa.jpg\n",
      "Listening for voice command...\n",
      "Recognized: create slide of elephant\n",
      "Processing command: create slide of elephant\n",
      "Image found: https://upload.wikimedia.org/wikipedia/commons/thumb/3/37/African_Bush_Elephant.jpg/50px-African_Bush_Elephant.jpg\n",
      "Created a slide about elephant with limited content.\n",
      "Inserted image from: https://upload.wikimedia.org/wikipedia/commons/thumb/3/37/African_Bush_Elephant.jpg/50px-African_Bush_Elephant.jpg\n",
      "Listening for voice command...\n",
      "Recognized: add table of animals stop\n",
      "Processing command: add table of animals stop\n",
      "Exiting the program.\n",
      "PowerPoint presentation saved as 'voice_presentation.pptx'.\n"
     ]
    }
   ],
   "source": [
    "import speech_recognition as sr\n",
    "from pptx import Presentation\n",
    "from pptx.util import Inches, Pt\n",
    "from pptx.dml.color import RGBColor\n",
    "import requests\n",
    "\n",
    "# Initialize a new presentation\n",
    "prs = Presentation()\n",
    "commands_file = \"commands.txt\"  # File to store commands\n",
    "\n",
    "# Function to recognize speech and convert it to text\n",
    "def recognize_speech():\n",
    "    r = sr.Recognizer()\n",
    "    with sr.Microphone() as source:\n",
    "        print(\"Listening for voice command...\")\n",
    "        audio = r.listen(source)\n",
    "        try:\n",
    "            command = r.recognize_google(audio)\n",
    "            print(f\"Recognized: {command}\")\n",
    "            # Store the command in a file\n",
    "            with open(commands_file, \"a\") as f:\n",
    "                f.write(command + \"\\n\")\n",
    "            return command.lower()\n",
    "        except sr.UnknownValueError:\n",
    "            print(\"Sorry, I could not understand the audio.\")\n",
    "            return \"\"\n",
    "        except sr.RequestError:\n",
    "            print(\"Request to Google API failed.\")\n",
    "            return \"\"\n",
    "\n",
    "# Function to limit content to approximately 100 words\n",
    "def limit_content(content, word_limit=100):\n",
    "    words = content.split()\n",
    "    limited_content = ' '.join(words[:word_limit])\n",
    "    return limited_content\n",
    "\n",
    "# Function to create a slide with a title and content\n",
    "def create_slide(topic, content=\"\"):\n",
    "    slide_layout = prs.slide_layouts[1]  # Title and content layout\n",
    "    slide = prs.slides.add_slide(slide_layout)\n",
    "    title = slide.shapes.title\n",
    "    title.text = f\"Slide about {topic}\"\n",
    "    \n",
    "    # Limit content to 100 words\n",
    "    limited_content = limit_content(content)\n",
    "    \n",
    "    # Add content to the slide\n",
    "    content_box = slide.shapes.placeholders[1]\n",
    "    content_box.text = limited_content\n",
    "    \n",
    "    # Set font size for the content\n",
    "    for paragraph in content_box.text_frame.paragraphs:\n",
    "        for run in paragraph.runs:\n",
    "            run.font.size = Pt(20)\n",
    "            run.font.color.rgb = RGBColor(0, 0, 0)\n",
    "\n",
    "    print(f\"Created a slide about {topic} with limited content.\")\n",
    "\n",
    "# Function to fetch content and image from Wikipedia using the API\n",
    "def fetch_wikipedia_content_and_image(topic):\n",
    "    api_url = \"https://en.wikipedia.org/w/api.php\"\n",
    "    \n",
    "    params = {\n",
    "        \"action\": \"query\",\n",
    "        \"format\": \"json\",\n",
    "        \"prop\": \"extracts|pageimages\",\n",
    "        \"exintro\": True,\n",
    "        \"explaintext\": True,\n",
    "        \"titles\": topic,\n",
    "        \"redirects\": 1\n",
    "    }\n",
    "\n",
    "    response = requests.get(api_url, params=params)\n",
    "    \n",
    "    if response.status_code != 200:\n",
    "        print(\"Error fetching data from Wikipedia.\")\n",
    "        return \"Content not found.\", None\n",
    "\n",
    "    data = response.json()\n",
    "    pages = data.get(\"query\", {}).get(\"pages\", {})\n",
    "    page_info = next(iter(pages.values()))\n",
    "\n",
    "    content = page_info.get(\"extract\", \"Content not found.\")\n",
    "    image_url = page_info.get(\"thumbnail\", {}).get(\"source\")\n",
    "\n",
    "    if not image_url:\n",
    "        print(f\"No image found for {topic}.\")\n",
    "    else:\n",
    "        print(f\"Image found: {image_url}\")\n",
    "\n",
    "    return content, image_url\n",
    "\n",
    "# Function to insert an image into the slide\n",
    "def insert_image(image_url):\n",
    "    slide_layout = prs.slide_layouts[1]  # Title and content layout\n",
    "    slide = prs.slides.add_slide(slide_layout)\n",
    "    title = slide.shapes.title\n",
    "    title.text = \"Image Slide\"\n",
    "\n",
    "    # Download and insert the image\n",
    "    try:\n",
    "        image_response = requests.get(image_url)\n",
    "        image_response.raise_for_status()\n",
    "        with open(\"temp_image.jpg\", \"wb\") as f:\n",
    "            f.write(image_response.content)\n",
    "        slide.shapes.add_picture(\"temp_image.jpg\", Inches(1), Inches(2), Inches(5), Inches(3))\n",
    "        print(f\"Inserted image from: {image_url}\")\n",
    "    except requests.HTTPError:\n",
    "        print(f\"Failed to download image from: {image_url}\")\n",
    "    except Exception as e:\n",
    "        print(f\"An error occurred while downloading the image: {e}\")\n",
    "\n",
    "# Function to add a text box to the last slide\n",
    "def add_text_box(text):\n",
    "    slide = prs.slides[-1]  # Get the last slide\n",
    "    left = Inches(1)\n",
    "    top = Inches(1)\n",
    "    width = Inches(8)\n",
    "    height = Inches(3)\n",
    "\n",
    "    textbox = slide.shapes.add_textbox(left, top, width, height)\n",
    "    text_frame = textbox.text_frame\n",
    "    p = text_frame.add_paragraph()\n",
    "    p.text = text\n",
    "    p.font.size = Pt(20)\n",
    "    p.font.color.rgb = RGBColor(0, 0, 0)\n",
    "\n",
    "    print(f\"Added a text box with the text: {text}\")\n",
    "\n",
    "# Function to add a table to the last slide\n",
    "def add_table(rows, cols):\n",
    "    slide = prs.slides[-1]  # Get the last slide\n",
    "    left = Inches(1)\n",
    "    top = Inches(1.5)\n",
    "    width = Inches(8)\n",
    "    height = Inches(3)\n",
    "\n",
    "    table = slide.shapes.add_table(rows, cols, left, top, width, height).table\n",
    "    for row in range(rows):\n",
    "        for col in range(cols):\n",
    "            cell = table.cell(row, col)\n",
    "            cell.text = f\"Row {row + 1}, Col {col + 1}\"\n",
    "            cell.text_frame.paragraphs[0].font.size = Pt(20)\n",
    "            cell.text_frame.paragraphs[0].font.color.rgb = RGBColor(0, 0, 0)\n",
    "\n",
    "    print(f\"Added a table with {rows} rows and {cols} columns.\")\n",
    "\n",
    "\n",
    "# Function to add a chart to the slide\n",
    "def add_chart():\n",
    "    slide_layout = prs.slide_layouts[5]  # Use a blank layout for charts\n",
    "    slide = prs.slides.add_slide(slide_layout)\n",
    "    title = slide.shapes.title\n",
    "    title.text = \"Chart Slide\"\n",
    "\n",
    "    # Placeholder for chart creation\n",
    "    # Inserting text as placeholder for chart\n",
    "    left = Inches(1)\n",
    "    top = Inches(2)\n",
    "    width = Inches(5)\n",
    "    height = Inches(3)\n",
    "    textbox = slide.shapes.add_textbox(left, top, width, height)\n",
    "    text_frame = textbox.text_frame\n",
    "    p = text_frame.add_paragraph()\n",
    "    p.text = \"Chart Placeholder (Actual chart requires specific data)\"\n",
    "    p.font.size = Pt(20)\n",
    "    p.font.color.rgb = RGBColor(0, 0, 0)\n",
    "\n",
    "    print(\"Added a chart placeholder to the slide.\")\n",
    "\n",
    "# Function to process the latest command\n",
    "def process_latest_command(command):\n",
    "    command = command.strip().lower()\n",
    "    print(f\"Processing command: {command}\")\n",
    "\n",
    "    if \"exit\" in command or \"stop\" in command:\n",
    "        print(\"Exiting the program.\")\n",
    "        return \"exit\"  # Return a specific value to indicate exit\n",
    "    elif \"create slide\" in command:\n",
    "        topic = command.replace(\"create slide of\", \"\").strip()\n",
    "        content, image_url = fetch_wikipedia_content_and_image(topic)\n",
    "        create_slide(topic, content)\n",
    "        if image_url:\n",
    "            insert_image(image_url)\n",
    "    elif \"add text box\" in command:\n",
    "        text = command.replace(\"add text box:\", \"\").strip()\n",
    "        add_text_box(text)\n",
    "    elif \"add table\" in command:\n",
    "        add_table(2, 2)  # Example: Add a 2x2 table\n",
    "    elif \"add chart\" in command:\n",
    "        add_chart()\n",
    "    else:\n",
    "        print(f\"Unrecognized command: {command}\")\n",
    "# Main loop to continuously listen for voice commands\n",
    "def main():\n",
    "    print(\"Starting voice-activated PowerPoint assistant...\")\n",
    "    while True:\n",
    "        command = recognize_speech()\n",
    "        if command:\n",
    "            result = process_latest_command(command)\n",
    "            if result == \"exit\":\n",
    "                break\n",
    "\n",
    "    # Save the PowerPoint presentation after the session ends\n",
    "    prs.save(\"voice_presentation.pptx\")\n",
    "    print(\"PowerPoint presentation saved as 'voice_presentation.pptx'.\")\n",
    "\n",
    "if __name__ == \"__main__\":\n",
    "    main()\n"
   ]
  },
  {
   "cell_type": "code",
   "execution_count": 6,
   "id": "ee20239d-588f-4518-a28b-c598181cb799",
   "metadata": {},
   "outputs": [],
   "source": [
    "import os\n",
    "\n",
    "# Open the PowerPoint file after creation (for Windows users)\n",
    "os.startfile('voice_presentation.pptx')"
   ]
  },
  {
   "cell_type": "code",
   "execution_count": 9,
   "id": "498fd8aa-dfb5-4f5e-a229-e9c7ae6fa0f9",
   "metadata": {},
   "outputs": [
    {
     "name": "stdout",
     "output_type": "stream",
     "text": [
      "Requirement already satisfied: scikit-learn in c:\\users\\hp\\desktop\\sample_project_1\\env\\lib\\site-packages (1.5.2)Note: you may need to restart the kernel to use updated packages.\n",
      "\n",
      "Requirement already satisfied: joblib in c:\\users\\hp\\desktop\\sample_project_1\\env\\lib\\site-packages (1.2.0)\n",
      "Requirement already satisfied: numpy>=1.19.5 in c:\\users\\hp\\desktop\\sample_project_1\\env\\lib\\site-packages (from scikit-learn) (1.26.4)\n",
      "Requirement already satisfied: scipy>=1.6.0 in c:\\users\\hp\\desktop\\sample_project_1\\env\\lib\\site-packages (from scikit-learn) (1.11.4)\n",
      "Requirement already satisfied: threadpoolctl>=3.1.0 in c:\\users\\hp\\desktop\\sample_project_1\\env\\lib\\site-packages (from scikit-learn) (3.5.0)\n"
     ]
    }
   ],
   "source": [
    "pip install scikit-learn joblib\n"
   ]
  },
  {
   "cell_type": "code",
   "execution_count": 12,
   "id": "6e8bafc5-d954-4aab-9fbe-82f1eddf1573",
   "metadata": {},
   "outputs": [
    {
     "name": "stdout",
     "output_type": "stream",
     "text": [
      "Note: you may need to restart the kernel to use updated packages.\n"
     ]
    },
    {
     "name": "stderr",
     "output_type": "stream",
     "text": [
      "The system cannot find the file specified.\n"
     ]
    }
   ],
   "source": [
    "pip install numpy<2\n"
   ]
  },
  {
   "cell_type": "code",
   "execution_count": 1,
   "id": "a97a4633-2433-420b-8823-89eb1bde7131",
   "metadata": {},
   "outputs": [
    {
     "name": "stdout",
     "output_type": "stream",
     "text": [
      "Model saved to trained_model.joblib.\n"
     ]
    }
   ],
   "source": [
    "import numpy as np\n",
    "from sklearn.datasets import load_iris\n",
    "from sklearn.model_selection import train_test_split\n",
    "from sklearn.tree import DecisionTreeClassifier\n",
    "import joblib\n",
    "\n",
    "# Load a sample dataset (Iris dataset)\n",
    "data = load_iris()\n",
    "X = data.data\n",
    "y = data.target\n",
    "\n",
    "# Split the data into training and testing sets\n",
    "X_train, X_test, y_train, y_test = train_test_split(X, y, test_size=0.2, random_state=42)\n",
    "\n",
    "# Initialize and train the model\n",
    "model = DecisionTreeClassifier()\n",
    "model.fit(X_train, y_train)\n",
    "\n",
    "# Save the trained model to a file\n",
    "model_filename = 'trained_model.joblib'\n",
    "joblib.dump(model, model_filename)\n",
    "\n",
    "print(f\"Model saved to {model_filename}.\")\n"
   ]
  },
  {
   "cell_type": "code",
   "execution_count": 3,
   "id": "9efa025f-cf38-4fab-845d-8e600f442c21",
   "metadata": {},
   "outputs": [
    {
     "name": "stdout",
     "output_type": "stream",
     "text": [
      "Loaded model accuracy: 1.00\n"
     ]
    }
   ],
   "source": [
    "# Load the model from the file\n",
    "loaded_model = joblib.load('trained_model.joblib')\n",
    "\n",
    "# Test the loaded model\n",
    "test_score = loaded_model.score(X_test, y_test)\n",
    "print(f\"Loaded model accuracy: {test_score:.2f}\")\n"
   ]
  },
  {
   "cell_type": "code",
   "execution_count": null,
   "id": "7c398a3b-dfd8-453e-9b37-4d8f8f946f1b",
   "metadata": {},
   "outputs": [],
   "source": []
  }
 ],
 "metadata": {
  "kernelspec": {
   "display_name": "Python 3 (ipykernel)",
   "language": "python",
   "name": "python3"
  },
  "language_info": {
   "codemirror_mode": {
    "name": "ipython",
    "version": 3
   },
   "file_extension": ".py",
   "mimetype": "text/x-python",
   "name": "python",
   "nbconvert_exporter": "python",
   "pygments_lexer": "ipython3",
   "version": "3.11.5"
  }
 },
 "nbformat": 4,
 "nbformat_minor": 5
}
